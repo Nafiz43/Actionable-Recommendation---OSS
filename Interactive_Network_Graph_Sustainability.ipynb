{
  "nbformat": 4,
  "nbformat_minor": 0,
  "metadata": {
    "colab": {
      "provenance": []
    },
    "kernelspec": {
      "name": "python3",
      "display_name": "Python 3"
    },
    "language_info": {
      "name": "python"
    }
  },
  "cells": [
    {
      "cell_type": "markdown",
      "source": [
        "Trying with Pyviz\n",
        "\n",
        "Link to the Tutorial: [PyVis](https://pyvis.readthedocs.io/en/latest/tutorial.html)"
      ],
      "metadata": {
        "id": "7z7-3WiY4Rok"
      }
    },
    {
      "cell_type": "code",
      "source": [
        "!pip install pyvis==0.3.1\n",
        "from pyvis.network import Network"
      ],
      "metadata": {
        "id": "ZjmTAIU71Gun",
        "colab": {
          "base_uri": "https://localhost:8080/"
        },
        "outputId": "bdc3b7bc-4b26-48bf-fd2d-069e309e6fe5"
      },
      "execution_count": 1,
      "outputs": [
        {
          "output_type": "stream",
          "name": "stdout",
          "text": [
            "Collecting pyvis==0.3.1\n",
            "  Downloading pyvis-0.3.1.tar.gz (748 kB)\n",
            "\u001b[2K     \u001b[90m━━━━━━━━━━━━━━━━━━━━━━━━━━━━━━━━━━━━━━━━\u001b[0m \u001b[32m748.9/748.9 kB\u001b[0m \u001b[31m7.5 MB/s\u001b[0m eta \u001b[36m0:00:00\u001b[0m\n",
            "\u001b[?25h  Preparing metadata (setup.py) ... \u001b[?25l\u001b[?25hdone\n",
            "Requirement already satisfied: jinja2>=2.9.6 in /usr/local/lib/python3.10/dist-packages (from pyvis==0.3.1) (3.1.2)\n",
            "Requirement already satisfied: networkx>=1.11 in /usr/local/lib/python3.10/dist-packages (from pyvis==0.3.1) (3.2.1)\n",
            "Requirement already satisfied: ipython>=5.3.0 in /usr/local/lib/python3.10/dist-packages (from pyvis==0.3.1) (7.34.0)\n",
            "Requirement already satisfied: jsonpickle>=1.4.1 in /usr/local/lib/python3.10/dist-packages (from pyvis==0.3.1) (3.0.2)\n",
            "Requirement already satisfied: setuptools>=18.5 in /usr/local/lib/python3.10/dist-packages (from ipython>=5.3.0->pyvis==0.3.1) (67.7.2)\n",
            "Collecting jedi>=0.16 (from ipython>=5.3.0->pyvis==0.3.1)\n",
            "  Downloading jedi-0.19.1-py2.py3-none-any.whl (1.6 MB)\n",
            "\u001b[2K     \u001b[90m━━━━━━━━━━━━━━━━━━━━━━━━━━━━━━━━━━━━━━━━\u001b[0m \u001b[32m1.6/1.6 MB\u001b[0m \u001b[31m13.6 MB/s\u001b[0m eta \u001b[36m0:00:00\u001b[0m\n",
            "\u001b[?25hRequirement already satisfied: decorator in /usr/local/lib/python3.10/dist-packages (from ipython>=5.3.0->pyvis==0.3.1) (4.4.2)\n",
            "Requirement already satisfied: pickleshare in /usr/local/lib/python3.10/dist-packages (from ipython>=5.3.0->pyvis==0.3.1) (0.7.5)\n",
            "Requirement already satisfied: traitlets>=4.2 in /usr/local/lib/python3.10/dist-packages (from ipython>=5.3.0->pyvis==0.3.1) (5.7.1)\n",
            "Requirement already satisfied: prompt-toolkit!=3.0.0,!=3.0.1,<3.1.0,>=2.0.0 in /usr/local/lib/python3.10/dist-packages (from ipython>=5.3.0->pyvis==0.3.1) (3.0.39)\n",
            "Requirement already satisfied: pygments in /usr/local/lib/python3.10/dist-packages (from ipython>=5.3.0->pyvis==0.3.1) (2.16.1)\n",
            "Requirement already satisfied: backcall in /usr/local/lib/python3.10/dist-packages (from ipython>=5.3.0->pyvis==0.3.1) (0.2.0)\n",
            "Requirement already satisfied: matplotlib-inline in /usr/local/lib/python3.10/dist-packages (from ipython>=5.3.0->pyvis==0.3.1) (0.1.6)\n",
            "Requirement already satisfied: pexpect>4.3 in /usr/local/lib/python3.10/dist-packages (from ipython>=5.3.0->pyvis==0.3.1) (4.8.0)\n",
            "Requirement already satisfied: MarkupSafe>=2.0 in /usr/local/lib/python3.10/dist-packages (from jinja2>=2.9.6->pyvis==0.3.1) (2.1.3)\n",
            "Requirement already satisfied: parso<0.9.0,>=0.8.3 in /usr/local/lib/python3.10/dist-packages (from jedi>=0.16->ipython>=5.3.0->pyvis==0.3.1) (0.8.3)\n",
            "Requirement already satisfied: ptyprocess>=0.5 in /usr/local/lib/python3.10/dist-packages (from pexpect>4.3->ipython>=5.3.0->pyvis==0.3.1) (0.7.0)\n",
            "Requirement already satisfied: wcwidth in /usr/local/lib/python3.10/dist-packages (from prompt-toolkit!=3.0.0,!=3.0.1,<3.1.0,>=2.0.0->ipython>=5.3.0->pyvis==0.3.1) (0.2.9)\n",
            "Building wheels for collected packages: pyvis\n",
            "  Building wheel for pyvis (setup.py) ... \u001b[?25l\u001b[?25hdone\n",
            "  Created wheel for pyvis: filename=pyvis-0.3.1-py3-none-any.whl size=755829 sha256=d9617878a2f5ab021a9c289455e265665033f10e4e9d19bb47cd423a5b33b5ad\n",
            "  Stored in directory: /root/.cache/pip/wheels/37/f9/93/44dd6cbfb2ead35307b114d27af8c6a14d5762a462af1e04f5\n",
            "Successfully built pyvis\n",
            "Installing collected packages: jedi, pyvis\n",
            "Successfully installed jedi-0.19.1 pyvis-0.3.1\n"
          ]
        }
      ]
    },
    {
      "cell_type": "code",
      "source": [
        "def extract_numbers(input_string):\n",
        "    numbers_only = ''.join(char for char in input_string if char.isdigit())\n",
        "    result_integer = int(numbers_only)\n",
        "    return result_integer"
      ],
      "metadata": {
        "id": "TISO51iMb3Nw"
      },
      "execution_count": null,
      "outputs": []
    },
    {
      "cell_type": "code",
      "source": [
        "import pandas as pd\n",
        "df = pd.read_csv(\"sus.csv\")\n",
        "\n",
        "actionable = df['Actionable'].values\n",
        "Actionable_Title = df['Actionable_Title'].values\n",
        "Features = df['Features'].values\n",
        "Features_Title = df['Features_Title'].values\n",
        "Edges = df['Edges'].values\n",
        "\n",
        "net = Network()\n",
        "for i in range(0,len(actionable)):\n",
        "  # print(actionable[i])\n",
        "  net.add_node(actionable[i], label=actionable[i], title=Actionable_Title[i])\n",
        "  net.add_node(Features[i], label=Features[i], title=Features_Title[i], color = \"#E07772\")\n",
        "  net.add_edge(actionable[i], Features[i], weight=extract_numbers(Edges[i]), title=Edges[i])\n",
        "\n",
        "net.show('interactive_graph_features.html')"
      ],
      "metadata": {
        "id": "-B99lmJr7lia"
      },
      "execution_count": 29,
      "outputs": []
    },
    {
      "cell_type": "code",
      "source": [
        "import pandas as pd\n",
        "df = pd.read_csv(\"sus2.csv\")\n",
        "\n",
        "actionable = df['Actionable'].values\n",
        "Actionable_Title = df['Actionable_Title'].values\n",
        "Classes = df['Classes'].values\n",
        "Classes_Title = df['Classes_Title'].values\n",
        "\n",
        "net = Network()\n",
        "for i in range(0,len(actionable)):\n",
        "  # print(actionable[i])\n",
        "  net.add_node(actionable[i], label=actionable[i], title=Actionable_Title[i])\n",
        "  net.add_node(Classes[i], label=Classes[i], title=Classes_Title[i], color = \"#98BF64\")\n",
        "  net.add_edge(actionable[i], Classes[i])\n",
        "\n",
        "net.show('interactive_graph_classes.html')"
      ],
      "metadata": {
        "id": "lscjNAJjTH6Q"
      },
      "execution_count": 28,
      "outputs": []
    },
    {
      "cell_type": "code",
      "source": [],
      "metadata": {
        "id": "1p7CbLBqZeQi"
      },
      "execution_count": null,
      "outputs": []
    }
  ]
}